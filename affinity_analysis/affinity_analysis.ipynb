{
 "cells": [
  {
   "cell_type": "markdown",
   "metadata": {},
   "source": [
    "# Affinity Analysis"
   ]
  },
  {
   "cell_type": "markdown",
   "metadata": {},
   "source": [
    "Affinity analysis is a data mining technique that gives similarity between items or samples.\n",
    "    \n",
    "    Use Case:\n",
    "        1. Product recommendations\n",
    "        2. Targetted services and ads\n",
    "        3. find people with similar genes, i.e. ancestors"
   ]
  },
  {
   "cell_type": "markdown",
   "metadata": {},
   "source": [
    "**Loading and understanding data**\n",
    "\n",
    "Each row of data represents a sample or a customer's shopping list.\n",
    "\n",
    "0 = No items were purchased for this item type (feature)\n",
    "\n",
    "1 = atleast 1 item purchased for this item type"
   ]
  },
  {
   "cell_type": "code",
   "execution_count": 230,
   "metadata": {},
   "outputs": [
    {
     "name": "stdout",
     "output_type": "stream",
     "text": [
      "X is a <class 'numpy.ndarray'> datatype.\n",
      "The dataset has 100 samples and 5 features.\n",
      "The feature names are ['bread', 'milk', 'cheese', 'apples', 'bananas'].\n",
      "The first 5 samples are: \n",
      " [[0 0 1 1 1]\n",
      " [1 1 0 1 0]\n",
      " [1 0 1 1 0]\n",
      " [0 0 1 1 1]\n",
      " [0 1 0 0 1]]\n"
     ]
    }
   ],
   "source": [
    "import numpy as np\n",
    "dataset = \"affinity_dataset.txt\"\n",
    "X = np.loadtxt(dataset, dtype = \"int\")\n",
    "\n",
    "X_type = type(X)\n",
    "num_samples, num_features = X.shape\n",
    "features = [\"bread\", \"milk\", \"cheese\", \"apples\", \"bananas\"]\n",
    "\n",
    "print(\"X is a {0} datatype.\".format(X_type))\n",
    "print(\"The dataset has {0} samples and {1} features.\".format(num_samples, num_features))\n",
    "print(\"The feature names are {0}.\".format(features[:]))\n",
    "print(\"The first 5 samples are:\",\"\\n\", X[0:5])"
   ]
  },
  {
   "cell_type": "markdown",
   "metadata": {},
   "source": [
    "A set of rules can be derived from the data depending on what a customer purchased. \n",
    "\n",
    "For e.g. A person who **\"bought\"** apples **\"also bought\"** cheese. \n",
    "\n",
    "There are some valid rules and a some invalid rules for a given **number of purchases**. \n",
    "\n",
    "**Valid rules** are the ones where the user has purchased at least 2 different types of item, i.e. *apple & cheese*; *milk & bread*;  *apples & bananas & milk*, etc. \n",
    "\n",
    "**Invalid rules** are the ones where the user has purchased only 1 or lesser type of items. i.e. *apple*, *bread & bread*, *zero  purchases* etc."
   ]
  },
  {
   "cell_type": "code",
   "execution_count": 231,
   "metadata": {},
   "outputs": [],
   "source": [
    "from collections import defaultdict\n",
    "num_purchases = defaultdict(int)\n",
    "valid_rules = defaultdict(int) #a dictionary of valid rules with keys as tuple (bought, also_bought)\n",
    "invalid_rules = defaultdict(int) #a dictionary of invalid rules with keys as tuples (bought, also_bought)"
   ]
  },
  {
   "cell_type": "code",
   "execution_count": 232,
   "metadata": {},
   "outputs": [],
   "source": [
    "#for every sample in the dataset\n",
    "for sample in X:\n",
    "    #for every item type in a sample\n",
    "    for bought in range(num_features):\n",
    "        #if the item type is not bought, i.e value == 0\n",
    "        if sample[bought] == 0:\n",
    "            continue\n",
    "        #else increment the number of purchases of that item type by 1    \n",
    "        num_purchases[bought] += 1\n",
    "        #for every item type that is also bought together with the above item type\n",
    "        for also_bought in range(num_features):\n",
    "            #if both item types are same then it is an invalid rule, so do nothing\n",
    "            if bought == also_bought:\n",
    "                continue\n",
    "            #else if a different type is bought, i.e value == 1, then increment the valid rule\n",
    "            if sample[also_bought] == 1:\n",
    "                valid_rules[(bought, also_bought)] += 1\n",
    "            #bought the first item but did not buy a second differnt item\n",
    "            else:\n",
    "                invalid_rules[(bought, also_bought)] += 1"
   ]
  },
  {
   "cell_type": "code",
   "execution_count": 233,
   "metadata": {},
   "outputs": [
    {
     "name": "stdout",
     "output_type": "stream",
     "text": [
      "Enter the key of a bought item, i.e 0-4: 3\n",
      "Enter the key of a differnt also bought item, i.e 0-4: 2\n",
      "\n",
      "\n",
      "apples was bought 36 times.\n",
      "cheese was bought 41 times.\n",
      "25 valid rules exist for apples bought with cheese.\n",
      "11 invalid rules exist for apples bought with cheese.\n"
     ]
    }
   ],
   "source": [
    "bought_key = int(input(\"Enter the key of a bought item, i.e 0-4: \"))\n",
    "also_bought_key = int(input(\"Enter the key of a differnt also bought item, i.e 0-4: \"))\n",
    "\n",
    "print(\"\\n\")\n",
    "\n",
    "print(\"{0} was bought {1} times.\".format(features[bought_key], num_purchases[bought_key]))\n",
    "print(\"{0} was bought {1} times.\".format(features[also_bought_key], num_purchases[also_bought_key]))\n",
    "\n",
    "print(\"{0} valid rules exist for {1} bought with {2}.\".format(valid_rules[(bought_key, also_bought_key)],\n",
    "                                                                        features[bought_key], features[also_bought_key]))\n",
    "print(\"{0} invalid rules exist for {1} bought with {2}.\".format(invalid_rules[(bought_key, also_bought_key)], \n",
    "                                                                          features[bought_key], features[also_bought_key]))"
   ]
  },
  {
   "cell_type": "markdown",
   "metadata": {},
   "source": [
    "Two basic methods to test the rules:\n",
    "\n",
    "**Support** is the number of times a valid rule occurs in a data set.\n",
    "\n",
    "**Confidence** is the accuracy of a rule. It can be calaulated as number of valid rules divided by number of samples i.e. (num_purchases here)."
   ]
  },
  {
   "cell_type": "code",
   "execution_count": 234,
   "metadata": {
    "collapsed": true
   },
   "outputs": [],
   "source": [
    "support = valid_rules\n",
    "confidence = defaultdict(int)\n",
    "\n",
    "for bought, also_bought in valid_rules.keys():\n",
    "    rule = (bought, also_bought)\n",
    "    confidence[rule] = round(valid_rules[rule] / num_purchases[bought], 3)"
   ]
  },
  {
   "cell_type": "code",
   "execution_count": 235,
   "metadata": {},
   "outputs": [],
   "source": [
    "def print_rule(bought, also_bought, support, confidence, features):\n",
    "    bought_item = features[bought]\n",
    "    also_bought_item = features[also_bought]\n",
    "    \n",
    "    print(\"The people who bought {0} are likely to buy {1}.\".format(bought_item, also_bought_item))\n",
    "    print(\"- Support: {0}\".format(support[bought, also_bought]))\n",
    "    print(\"- Confidence: {0} or {1:.2f}%\".format(confidence[bought, also_bought], \n",
    "                                                 100 * confidence[bought, also_bought]))"
   ]
  },
  {
   "cell_type": "code",
   "execution_count": 236,
   "metadata": {},
   "outputs": [
    {
     "name": "stdout",
     "output_type": "stream",
     "text": [
      "Enter the key of a bought item, i.e 0-4: 3\n",
      "Enter the key of a differnt also bought item, i.e 0-4: 2\n",
      "The people who bought apples are likely to buy cheese.\n",
      "- Support: 25\n",
      "- Confidence: 0.694 or 69.40%\n"
     ]
    }
   ],
   "source": [
    "bought_key = int(input(\"Enter the key of a bought item, i.e 0-4: \"))\n",
    "also_bought_key = int(input(\"Enter the key of a differnt also bought item, i.e 0-4: \"))\n",
    "\n",
    "print_rule(bought_key, also_bought_key, support, confidence, features)"
   ]
  },
  {
   "cell_type": "markdown",
   "metadata": {},
   "source": [
    "Sorting based on support and confidence of the rules."
   ]
  },
  {
   "cell_type": "code",
   "execution_count": 237,
   "metadata": {},
   "outputs": [],
   "source": [
    "from operator import itemgetter\n",
    "#sorts the dictionary items according to the itemgetter() in descending order\n",
    "sorted_support = sorted(support.items(), key=itemgetter(1), reverse=True)\n",
    "sorted_confidence = sorted(confidence.items(), key=itemgetter(1), reverse=True)"
   ]
  },
  {
   "cell_type": "code",
   "execution_count": 238,
   "metadata": {},
   "outputs": [
    {
     "name": "stdout",
     "output_type": "stream",
     "text": [
      "Enter top 'n' number:3\n",
      " \n",
      "Top 3 rules sorted by support are:\n",
      "Rule #1\n",
      "The people who bought cheese are likely to buy bananas.\n",
      "- Support: 27\n",
      "- Confidence: 0.659 or 65.90%\n",
      "Rule #2\n",
      "The people who bought bananas are likely to buy cheese.\n",
      "- Support: 27\n",
      "- Confidence: 0.458 or 45.80%\n",
      "Rule #3\n",
      "The people who bought cheese are likely to buy apples.\n",
      "- Support: 25\n",
      "- Confidence: 0.61 or 61.00%\n"
     ]
    }
   ],
   "source": [
    "def print_rule_by_top_support():\n",
    "    top_n = int(input(\"Enter top 'n' number:\"))\n",
    "    print(\" \")\n",
    "    print(\"Top {0} rules sorted by support are:\".format(top_n))\n",
    "    for index in range(top_n):\n",
    "        print(\"Rule #{0}\".format(index + 1))\n",
    "        (bought, also_bought) = sorted_support[index][0]\n",
    "        print_rule(bought, also_bought, support, confidence, features)\n",
    "        \n",
    "print_rule_by_top_support()"
   ]
  },
  {
   "cell_type": "code",
   "execution_count": 239,
   "metadata": {},
   "outputs": [
    {
     "name": "stdout",
     "output_type": "stream",
     "text": [
      "Enter top 'n' number: 3\n",
      " \n",
      "Top 3 rules sorted by confidence are:\n",
      "Rule #1\n",
      "The people who bought apples are likely to buy cheese.\n",
      "- Support: 25\n",
      "- Confidence: 0.694 or 69.40%\n",
      "Rule #2\n",
      "The people who bought cheese are likely to buy bananas.\n",
      "- Support: 27\n",
      "- Confidence: 0.659 or 65.90%\n",
      "Rule #3\n",
      "The people who bought bread are likely to buy bananas.\n",
      "- Support: 17\n",
      "- Confidence: 0.63 or 63.00%\n"
     ]
    }
   ],
   "source": [
    "def print_rule_by_top_confidence():\n",
    "    top_n = int(input(\"Enter top 'n' number: \"))\n",
    "    print(\" \")\n",
    "    print(\"Top {0} rules sorted by confidence are:\".format(top_n))\n",
    "    for index in range(top_n):\n",
    "        print(\"Rule #{0}\".format(index + 1))\n",
    "        (bought, also_bought) = sorted_confidence[index][0]\n",
    "        print_rule(bought, also_bought, support, confidence, features)\n",
    "        \n",
    "print_rule_by_top_confidence()"
   ]
  },
  {
   "cell_type": "code",
   "execution_count": null,
   "metadata": {
    "collapsed": true
   },
   "outputs": [],
   "source": []
  }
 ],
 "metadata": {
  "kernelspec": {
   "display_name": "Python 3",
   "language": "python",
   "name": "python3"
  },
  "language_info": {
   "codemirror_mode": {
    "name": "ipython",
    "version": 3
   },
   "file_extension": ".py",
   "mimetype": "text/x-python",
   "name": "python",
   "nbconvert_exporter": "python",
   "pygments_lexer": "ipython3",
   "version": "3.6.2"
  }
 },
 "nbformat": 4,
 "nbformat_minor": 2
}
